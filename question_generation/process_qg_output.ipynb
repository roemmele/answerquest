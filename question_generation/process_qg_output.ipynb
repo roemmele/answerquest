{
 "cells": [
  {
   "cell_type": "code",
   "execution_count": 1,
   "metadata": {},
   "outputs": [],
   "source": [
    "import pickle\n",
    "import random\n",
    "import os\n",
    "\n",
    "import data_utils"
   ]
  },
  {
   "cell_type": "markdown",
   "metadata": {},
   "source": [
    "## Detokenize/unmask generated questions"
   ]
  },
  {
   "cell_type": "markdown",
   "metadata": {},
   "source": [
    "#### Detokenize"
   ]
  },
  {
   "cell_type": "code",
   "execution_count": 3,
   "metadata": {},
   "outputs": [],
   "source": [
    "'''Load tokenizer'''\n",
    "\n",
    "from transformers import GPT2Tokenizer\n",
    "\n",
    "tokenizer = GPT2Tokenizer.from_pretrained('/home/mroemmele/question_generation/gpt2_tokenizer_vocab/')"
   ]
  },
  {
   "cell_type": "code",
   "execution_count": 12,
   "metadata": {},
   "outputs": [
    {
     "data": {
      "text/plain": [
       "['Who Ġdefeated Ġthe ĠNational ĠFootball ĠConference ?',\n",
       " 'Who Ġwas Ġthe ĠNational ĠFootball ĠConference ?',\n",
       " 'Where Ġwas Ġthe Ġgame Ġplayed ?',\n",
       " 'Who Ġdefeated Ġthe ĠNational ĠFootball ĠConference ?',\n",
       " 'What Ġanniversary Ġdid Ġthe Ġleague Ġadd Ġto Ġthe Ġ50 th ĠSuper ĠBowl ?',\n",
       " 'What Ġdid Ġthe Ġleague Ġnotice ?',\n",
       " 'When Ġwas Ġthe Ġgame Ġplayed ?',\n",
       " 'What Ġwas Ġdefeated Ġby ĠDenver ?',\n",
       " 'What Ġdid Ġthe Ġleague Ġnotice ?',\n",
       " 'What Ġwas Ġdefeated Ġby ĠDenver ?']"
      ]
     },
     "execution_count": 12,
     "metadata": {},
     "output_type": "execute_result"
    }
   ],
   "source": [
    "'''Load generated questions'''\n",
    "\n",
    "output_dir = \"/home/mroemmele/question_generation/squad_newsqa_gpt2_tok_no_masking_models/finetuned_rule_mimic/outputs/\"\n",
    "gen_questions_filename = \"squad_newsqa_test_set.txt\"\n",
    "questions = [question.strip()\n",
    "             for question in open(os.path.join(output_dir, gen_questions_filename))]\n",
    "questions[:10]"
   ]
  },
  {
   "cell_type": "code",
   "execution_count": 13,
   "metadata": {},
   "outputs": [
    {
     "data": {
      "text/plain": [
       "['How many passengers died?',\n",
       " 'Where did the ship die?',\n",
       " 'Who was suspended?',\n",
       " 'Who did he marry?',\n",
       " 'Where did he live?',\n",
       " 'What did he do?',\n",
       " 'Where did he meet?',\n",
       " 'When did he die?',\n",
       " 'When did he die?',\n",
       " 'What is the name of the satellite?',\n",
       " 'What is the satellite?',\n",
       " 'What happened to the vehicle?',\n",
       " 'What would the satellite have?',\n",
       " 'What is the $273 million?',\n",
       " 'When is the rocket?',\n",
       " 'Who is Calvert?',\n",
       " 'Where did John and Elizabeth Calvert win?',\n",
       " 'When did the Calverts die?',\n",
       " 'Who was scheduled to address their concerns?',\n",
       " \"What did O'Connor say?\",\n",
       " 'How many died?',\n",
       " 'Where is the hospital?',\n",
       " 'Where was the match?',\n",
       " 'What happened to the cause of the deaths?',\n",
       " 'How many horses died?']"
      ]
     },
     "execution_count": 13,
     "metadata": {},
     "output_type": "execute_result"
    }
   ],
   "source": [
    "'''Detokenize questions'''\n",
    "\n",
    "questions = [data_utils.detokenize_fn(tokenizer, question.split(\" \")) for question in questions]\n",
    "questions[-25:]"
   ]
  },
  {
   "cell_type": "code",
   "execution_count": 14,
   "metadata": {},
   "outputs": [
    {
     "data": {
      "text/plain": [
       "14911"
      ]
     },
     "execution_count": 14,
     "metadata": {},
     "output_type": "execute_result"
    }
   ],
   "source": [
    "len(questions)"
   ]
  },
  {
   "cell_type": "markdown",
   "metadata": {},
   "source": [
    "#### Unmask"
   ]
  },
  {
   "cell_type": "code",
   "execution_count": null,
   "metadata": {},
   "outputs": [],
   "source": [
    "'''Load tokens to tags mapping, if model uses entity-masking'''\n",
    "\n",
    "tokens_to_tags_filepath = \"/home/ec2-user/squad_entity_masked_data/test/tokens_to_tags.pkl\"\n",
    "tokens_to_tags = pickle.load(open(tokens_to_tags_filepath, 'rb'))\n",
    "tokens_to_tags[:3]"
   ]
  },
  {
   "cell_type": "code",
   "execution_count": null,
   "metadata": {},
   "outputs": [],
   "source": [
    "'''Apply unmasking'''\n",
    "\n",
    "questions = [unmask_fn(question, item_tokens_to_tags)\n",
    "             for question, item_tokens_to_tags in list(zip(questions, tokens_to_tags))]"
   ]
  },
  {
   "cell_type": "code",
   "execution_count": 15,
   "metadata": {},
   "outputs": [],
   "source": [
    "'''Save decoded questions'''\n",
    "\n",
    "detok_questions_filename = \"squad_newsqa_test_set_detok.txt\"\n",
    "with open(os.path.join(output_dir, detok_questions_filename), 'w') as f:\n",
    "    f.write(\"\\n\".join(questions))"
   ]
  },
  {
   "cell_type": "code",
   "execution_count": 16,
   "metadata": {},
   "outputs": [
    {
     "data": {
      "text/plain": [
       "'/home/mroemmele/question_generation/squad_newsqa_gpt2_tok_no_masking_models/finetuned_rule_mimic/outputs/'"
      ]
     },
     "execution_count": 16,
     "metadata": {},
     "output_type": "execute_result"
    }
   ],
   "source": [
    "output_dir"
   ]
  },
  {
   "cell_type": "code",
   "execution_count": null,
   "metadata": {},
   "outputs": [],
   "source": []
  }
 ],
 "metadata": {
  "kernelspec": {
   "display_name": "Python 3",
   "language": "python",
   "name": "python3"
  },
  "language_info": {
   "codemirror_mode": {
    "name": "ipython",
    "version": 3
   },
   "file_extension": ".py",
   "mimetype": "text/x-python",
   "name": "python",
   "nbconvert_exporter": "python",
   "pygments_lexer": "ipython3",
   "version": "3.7.3"
  }
 },
 "nbformat": 4,
 "nbformat_minor": 2
}
