{
 "cells": [
  {
   "cell_type": "code",
   "execution_count": 1,
   "metadata": {},
   "outputs": [
    {
     "name": "stderr",
     "output_type": "stream",
     "text": [
      "/local/miniconda3/envs/python37/lib/python3.7/site-packages/tensorflow/python/framework/dtypes.py:516: FutureWarning: Passing (type, 1) or '1type' as a synonym of type is deprecated; in a future version of numpy, it will be understood as (type, (1,)) / '(1,)type'.\n",
      "  _np_qint8 = np.dtype([(\"qint8\", np.int8, 1)])\n",
      "/local/miniconda3/envs/python37/lib/python3.7/site-packages/tensorflow/python/framework/dtypes.py:517: FutureWarning: Passing (type, 1) or '1type' as a synonym of type is deprecated; in a future version of numpy, it will be understood as (type, (1,)) / '(1,)type'.\n",
      "  _np_quint8 = np.dtype([(\"quint8\", np.uint8, 1)])\n",
      "/local/miniconda3/envs/python37/lib/python3.7/site-packages/tensorflow/python/framework/dtypes.py:518: FutureWarning: Passing (type, 1) or '1type' as a synonym of type is deprecated; in a future version of numpy, it will be understood as (type, (1,)) / '(1,)type'.\n",
      "  _np_qint16 = np.dtype([(\"qint16\", np.int16, 1)])\n",
      "/local/miniconda3/envs/python37/lib/python3.7/site-packages/tensorflow/python/framework/dtypes.py:519: FutureWarning: Passing (type, 1) or '1type' as a synonym of type is deprecated; in a future version of numpy, it will be understood as (type, (1,)) / '(1,)type'.\n",
      "  _np_quint16 = np.dtype([(\"quint16\", np.uint16, 1)])\n",
      "/local/miniconda3/envs/python37/lib/python3.7/site-packages/tensorflow/python/framework/dtypes.py:520: FutureWarning: Passing (type, 1) or '1type' as a synonym of type is deprecated; in a future version of numpy, it will be understood as (type, (1,)) / '(1,)type'.\n",
      "  _np_qint32 = np.dtype([(\"qint32\", np.int32, 1)])\n",
      "/local/miniconda3/envs/python37/lib/python3.7/site-packages/tensorflow/python/framework/dtypes.py:525: FutureWarning: Passing (type, 1) or '1type' as a synonym of type is deprecated; in a future version of numpy, it will be understood as (type, (1,)) / '(1,)type'.\n",
      "  np_resource = np.dtype([(\"resource\", np.ubyte, 1)])\n",
      "/local/miniconda3/envs/python37/lib/python3.7/site-packages/tensorboard/compat/tensorflow_stub/dtypes.py:541: FutureWarning: Passing (type, 1) or '1type' as a synonym of type is deprecated; in a future version of numpy, it will be understood as (type, (1,)) / '(1,)type'.\n",
      "  _np_qint8 = np.dtype([(\"qint8\", np.int8, 1)])\n",
      "/local/miniconda3/envs/python37/lib/python3.7/site-packages/tensorboard/compat/tensorflow_stub/dtypes.py:542: FutureWarning: Passing (type, 1) or '1type' as a synonym of type is deprecated; in a future version of numpy, it will be understood as (type, (1,)) / '(1,)type'.\n",
      "  _np_quint8 = np.dtype([(\"quint8\", np.uint8, 1)])\n",
      "/local/miniconda3/envs/python37/lib/python3.7/site-packages/tensorboard/compat/tensorflow_stub/dtypes.py:543: FutureWarning: Passing (type, 1) or '1type' as a synonym of type is deprecated; in a future version of numpy, it will be understood as (type, (1,)) / '(1,)type'.\n",
      "  _np_qint16 = np.dtype([(\"qint16\", np.int16, 1)])\n",
      "/local/miniconda3/envs/python37/lib/python3.7/site-packages/tensorboard/compat/tensorflow_stub/dtypes.py:544: FutureWarning: Passing (type, 1) or '1type' as a synonym of type is deprecated; in a future version of numpy, it will be understood as (type, (1,)) / '(1,)type'.\n",
      "  _np_quint16 = np.dtype([(\"quint16\", np.uint16, 1)])\n",
      "/local/miniconda3/envs/python37/lib/python3.7/site-packages/tensorboard/compat/tensorflow_stub/dtypes.py:545: FutureWarning: Passing (type, 1) or '1type' as a synonym of type is deprecated; in a future version of numpy, it will be understood as (type, (1,)) / '(1,)type'.\n",
      "  _np_qint32 = np.dtype([(\"qint32\", np.int32, 1)])\n",
      "/local/miniconda3/envs/python37/lib/python3.7/site-packages/tensorboard/compat/tensorflow_stub/dtypes.py:550: FutureWarning: Passing (type, 1) or '1type' as a synonym of type is deprecated; in a future version of numpy, it will be understood as (type, (1,)) / '(1,)type'.\n",
      "  np_resource = np.dtype([(\"resource\", np.ubyte, 1)])\n"
     ]
    }
   ],
   "source": [
    "from question_generation import data_utils\n",
    "from onmt.bin.translate import translate\n",
    "from onmt.bin.translate import _get_parser\n",
    "from transformers import GPT2Tokenizer\n"
   ]
  },
  {
   "cell_type": "code",
   "execution_count": 2,
   "metadata": {},
   "outputs": [],
   "source": [
    "tokenizer = GPT2Tokenizer.from_pretrained('/home/mroemmele/question_generation/gpt2_tokenizer_vocab/')"
   ]
  },
  {
   "cell_type": "code",
   "execution_count": 3,
   "metadata": {},
   "outputs": [
    {
     "data": {
      "text/plain": [
       "['\\ufeffSDL (LSE: SDL), a leader in global content management, translation and digital experience, today announced that its next-generation SDL Neural Machine Translation (NMT) 2.0 has mastered Russian to English translation, one of the toughest linguistic Artificial Intelligence (AI) problems to date.',\n",
       " 'SDL NMT 2.0 outperformed all industry standards, setting a benchmark for Russian to English machine translation, with over 90% of the system’s output labelled as perfect by professional Russian-English translators.',\n",
       " 'The new SDL NMT 2.0 Russian engine is being made available to enterprise customers via SDL Enterprise Translation Server (ETS), a secure NMT product, enabling organizations to translate large volumes of information into multiple languages.',\n",
       " '“One of the toughest linguistic challenges facing the machine translation community has been overcome by our team,” said Adolfo Hernandez, CEO, SDL.',\n",
       " '“It was the Russian language that first inspired the science and research behind machine translation, and since then it has always been a major challenge for the community.']"
      ]
     },
     "execution_count": 3,
     "metadata": {},
     "output_type": "execute_result"
    }
   ],
   "source": [
    "'''Load texts as input to QG'''\n",
    "\n",
    "input_texts = [text.strip() for text in open(\"/home/mroemmele/question_generation/qg_inputs_outputs/inputs/nmt_blog_concat.segmented.txt\")]\n",
    "input_texts[:5]"
   ]
  },
  {
   "cell_type": "code",
   "execution_count": 4,
   "metadata": {},
   "outputs": [
    {
     "data": {
      "text/plain": [
       "['ï » ¿ SD L Ġ( L SE : ĠSDL ), Ġa Ġleader Ġin Ġglobal Ġcontent Ġmanagement , Ġtranslation Ġand Ġdigital Ġexperience , Ġtoday Ġannounced Ġthat Ġits Ġnext - generation ĠSDL ĠNeural ĠMachine ĠTranslation Ġ( N MT ) Ġ2 . 0 Ġhas Ġmastered ĠRussian Ġto ĠEnglish Ġtranslation , Ġone Ġof Ġthe Ġtoughest Ġlinguistic ĠArtificial ĠIntelligence Ġ( AI ) Ġproblems Ġto Ġdate .',\n",
       " 'SD L ĠN MT Ġ2 . 0 Ġoutper formed Ġall Ġindustry Ġstandards , Ġsetting Ġa Ġbenchmark Ġfor ĠRussian Ġto ĠEnglish Ġmachine Ġtranslation , Ġwith Ġover Ġ90 % Ġof Ġthe Ġsystem âĢ Ļ s Ġoutput Ġlabelled Ġas Ġperfect Ġby Ġprofessional ĠRussian - English Ġtransl ators .',\n",
       " 'The Ġnew ĠSDL ĠN MT Ġ2 . 0 ĠRussian Ġengine Ġis Ġbeing Ġmade Ġavailable Ġto Ġenterprise Ġcustomers Ġvia ĠSDL ĠEnterprise ĠTranslation ĠServer Ġ( ETS ), Ġa Ġsecure ĠN MT Ġproduct , Ġenabling Ġorganizations Ġto Ġtranslate Ġlarge Ġvolumes Ġof Ġinformation Ġinto Ġmultiple Ġlanguages .',\n",
       " 'âĢ ľ One Ġof Ġthe Ġtoughest Ġlinguistic Ġchallenges Ġfacing Ġthe Ġmachine Ġtranslation Ġcommunity Ġhas Ġbeen Ġovercome Ġby Ġour Ġteam , âĢ Ŀ Ġsaid ĠAdolf o ĠHernandez , ĠCEO , ĠSDL .',\n",
       " 'âĢ ľ It Ġwas Ġthe ĠRussian Ġlanguage Ġthat Ġfirst Ġinspired Ġthe Ġscience Ġand Ġresearch Ġbehind Ġmachine Ġtranslation , Ġand Ġsince Ġthen Ġit Ġhas Ġalways Ġbeen Ġa Ġmajor Ġchallenge Ġfor Ġthe Ġcommunity .',\n",
       " 'SD L Ġhas Ġdeployed Ġbreakthrough Ġresearch Ġstrategies Ġto Ġmaster Ġthese Ġdifficult Ġlanguages , Ġand Ġsupport Ġthe Ġglobal Ġexpansion Ġof Ġits Ġenterprise Ġcustomers .',\n",
       " 'We Ġhave Ġpushed Ġthe Ġboundaries Ġand Ġraised Ġthe Ġperformance Ġbar Ġeven Ġhigher , Ġand Ġwe Ġare Ġnow Ġpaving Ġthe Ġway Ġfor Ġleadership Ġin Ġother Ġcomplex Ġlanguages . âĢ Ŀ The Ġlinguistic Ġproperties Ġand Ġintric acies Ġof Ġthe ĠRussian Ġlanguage Ġrelative Ġto ĠEnglish Ġmake Ġit Ġparticularly Ġchallenging Ġfor ĠMT Ġsystems Ġto Ġmodel .',\n",
       " 'Russian Ġis Ġa Ġhighly Ġinf lected Ġlanguage Ġwith Ġdifferent Ġsyntax , Ġgrammar , Ġand Ġword Ġorder Ġcompared Ġto ĠEnglish .',\n",
       " 'Given Ġthe Ġcomplexities Ġcreated Ġby Ġthese Ġdifferences Ġbetween Ġthe ĠRussian Ġand ĠEnglish Ġlanguage , Ġraising Ġthe Ġtranslation Ġquality Ġhas Ġbeen Ġan Ġongoing Ġfocus Ġof Ġthe ĠSDL ĠMachine ĠLearning ĠR & D Ġteam .',\n",
       " 'âĢ ľ With Ġover Ġ15 Ġyears Ġof Ġresearch Ġand Ġinnovation Ġin Ġmachine Ġtranslation , Ġour Ġscientists Ġand Ġengineers Ġtook Ġup Ġthe Ġchallenge Ġto Ġbring ĠNeural ĠMT Ġto Ġthe Ġnext Ġlevel , âĢ Ŀ Ġsaid ĠSam ad ĠE ch ih abi , ĠHead Ġof ĠMachine ĠLearning ĠR & D , ĠSDL .']"
      ]
     },
     "execution_count": 4,
     "metadata": {},
     "output_type": "execute_result"
    }
   ],
   "source": [
    "'''Tokenize input texts'''\n",
    "\n",
    "tokenized_texts = [\" \".join(data_utils.tokenize_fn(tokenizer, text)) for text in input_texts]\n",
    "tokenized_texts[:10]"
   ]
  },
  {
   "cell_type": "code",
   "execution_count": 32,
   "metadata": {},
   "outputs": [
    {
     "data": {
      "text/plain": [
       "51"
      ]
     },
     "execution_count": 32,
     "metadata": {},
     "output_type": "execute_result"
    }
   ],
   "source": [
    "len(tokenized_texts)"
   ]
  },
  {
   "cell_type": "code",
   "execution_count": 5,
   "metadata": {},
   "outputs": [],
   "source": [
    "'''Save tokenized input texts'''\n",
    "\n",
    "with open(\"/home/mroemmele/question_generation/qg_inputs_outputs/inputs/nmt_blog_concat.segmented.txt.gpt2_tok\", \"w\") as f:\n",
    "    f.write(\"\\n\".join(tokenized_texts))"
   ]
  },
  {
   "cell_type": "code",
   "execution_count": 41,
   "metadata": {},
   "outputs": [],
   "source": [
    "'''Run QG'''\n",
    "\n",
    "parser = _get_parser()\n",
    "opt = parser.parse_args(args=['-model', '/home/mroemmele/question_generation/squad_newsqa_gpt2_tok_no_masking_models/finetuned_rule_mimic/trained_models/model_step_5600.pt',\n",
    "                              #                               '-src', \"/home/mroemmele/question_generation/qg_inputs_outputs/inputs/nmt_blog_concat.segmented.txt.gpt2_tok\",\n",
    "                              '-src', \"\",\n",
    "                              #                               '-gpu', '0',\n",
    "                              '-batch_size', '65536',#'1024', #,\n",
    "                              '-batch_type', 'tokens',\n",
    "                              #                               '-random_sampling_topk', '500',\n",
    "                              #                               '-coverage_penalty', 'wu',\n",
    "                              #                               '-beta', '0.8',\n",
    "                              # #                               '-random_sampling_topk', '1',\n",
    "                              '-beam_size', '5',\n",
    "                              '-block_ngram_repeat', '1',\n",
    "                              #                               '-shard_size', '100000',\n",
    "                              #                               '-random_sampling_temp', '0.2',\n",
    "                              # '-output', \"/home/mroemmele/question_generation/qg_inputs_outputs/outputs/nmt_blog_concat.segmented.txt.gpt2_tok\"]\n",
    "                              ])"
   ]
  },
  {
   "cell_type": "code",
   "execution_count": 42,
   "metadata": {},
   "outputs": [],
   "source": [
    "from onmt.translate.translator import build_translator\n",
    "translator = build_translator(opt, report_score=True)"
   ]
  },
  {
   "cell_type": "code",
   "execution_count": 43,
   "metadata": {},
   "outputs": [],
   "source": [
    "inputs = [text.encode() for text in tokenized_texts[:opt.shard_size]]"
   ]
  },
  {
   "cell_type": "code",
   "execution_count": 44,
   "metadata": {},
   "outputs": [
    {
     "name": "stdout",
     "output_type": "stream",
     "text": [
      "PRED AVG SCORE: -0.8206, PRED PPL: 2.2718\n"
     ]
    }
   ],
   "source": [
    "\n",
    "    \n",
    "scores, gen_qs = translator.translate(\n",
    "        src=inputs,\n",
    "        batch_size=opt.batch_size,\n",
    "        batch_type=opt.batch_type,\n",
    "#         attn_debug=opt.attn_debug,\n",
    "#         align_debug=opt.align_debug\n",
    "        )"
   ]
  },
  {
   "cell_type": "code",
   "execution_count": 45,
   "metadata": {},
   "outputs": [
    {
     "data": {
      "text/plain": [
       "['What does the toughest linguistic Artificial Intelligence mean?',\n",
       " 'What is the focus of NMT 2.0?',\n",
       " 'What is the new SDL NMT 2.0?',\n",
       " 'What is the toughest linguistic challenges?',\n",
       " 'What was the Russian language?',\n",
       " 'What is the global expansion of the enterprise customers?',\n",
       " 'What are the names of the Russian language?',\n",
       " 'What is Russian a highly inflected language with?',\n",
       " 'What is the focus of the translation quality?',\n",
       " 'What did Samad Echihabi say?',\n",
       " 'What is the reason for phenomenal technology?',\n",
       " 'What is SDL NMT 2.0?',\n",
       " 'What is the data trained for?',\n",
       " 'What is NMT 2.0 developed with?',\n",
       " 'What is the level of productivity to Language?',\n",
       " 'What is NMT 2.0?',\n",
       " 'Why has ETS been used?',\n",
       " 'What does SDLL mean?',\n",
       " 'What does Edge-Cloud capabilities use?',\n",
       " 'What does NMT 2.0 solution to?',\n",
       " 'Why do leveraging on-cloud instant translation?',\n",
       " 'What are some language pairs of SDL?',\n",
       " 'Why can brands develop their business?',\n",
       " 'What is instant access from anywhere?',\n",
       " 'Why are the remains secure?',\n",
       " 'What is Translating a document?',\n",
       " 'Why do users need to drag and drop a file?',\n",
       " 'What is�SDL revolutionizing?',\n",
       " 'What is the foundation of NMT engine?',\n",
       " 'What is the online store?',\n",
       " 'What is Made-in-China machine translation?',\n",
       " 'What is Made-in-China.com?',\n",
       " 'What are the translation team responsible for?',\n",
       " 'What is the number of products?',\n",
       " 'Why would a poor language negatively and online performance be used?',\n",
       " 'What happened to Chinese products?',\n",
       " 'What does Marcel Ning Ning say?',\n",
       " 'What does�SDL stand for?',\n",
       " 'What is the rich experience supporting many language pairs?',\n",
       " 'What is the Chinese brand?',\n",
       " 'What did Thomas Labart say?',\n",
       " 'What can be an uphill struggle to keep up with demands?',\n",
       " \"What is the name of the Machine's technology?\",\n",
       " 'What is the purpose of MTSD?',\n",
       " 'What was established in 1996?',\n",
       " 'What is the software company in China?',\n",
       " 'What is the national industrial and deep IT model enterprise?',\n",
       " 'What are foreign trade?',\n",
       " 'What was the name of Made-in-China.com in 1998?',\n",
       " 'How many registered users are there?',\n",
       " 'What is the website?']"
      ]
     },
     "execution_count": 45,
     "metadata": {},
     "output_type": "execute_result"
    }
   ],
   "source": [
    "detok_gen_qs = [data_utils.detokenize_fn(tokenizer, gen_q[0].strip().split(\" \")) for gen_q in gen_qs]\n",
    "detok_gen_qs"
   ]
  },
  {
   "cell_type": "code",
   "execution_count": null,
   "metadata": {},
   "outputs": [],
   "source": [
    "'''Load QG output'''\n",
    "gen_qs = [question.strip().split(\" \") for question in open(\"/home/ec2-user/qg_inputs_outputs/outputs/nmt_blog_concat.segmented.txt.gpt2_tok.topk\")]\n",
    "detok_gen_qs = [data_utils.detokenize_fn(tokenizer, gen_q) for gen_q in gen_qs]\n",
    "detok_gen_qs"
   ]
  }
 ],
 "metadata": {
  "kernelspec": {
   "display_name": "Python 3",
   "language": "python",
   "name": "python3"
  },
  "language_info": {
   "codemirror_mode": {
    "name": "ipython",
    "version": 3
   },
   "file_extension": ".py",
   "mimetype": "text/x-python",
   "name": "python",
   "nbconvert_exporter": "python",
   "pygments_lexer": "ipython3",
   "version": "3.7.3"
  }
 },
 "nbformat": 4,
 "nbformat_minor": 2
}
